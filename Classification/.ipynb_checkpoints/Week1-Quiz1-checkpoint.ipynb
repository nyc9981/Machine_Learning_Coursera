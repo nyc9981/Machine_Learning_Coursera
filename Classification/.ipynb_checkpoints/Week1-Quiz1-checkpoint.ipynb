{
 "cells": [
  {
   "cell_type": "code",
   "execution_count": 9,
   "metadata": {
    "collapsed": true
   },
   "outputs": [],
   "source": [
    "import numpy as np\n",
    "import math\n",
    "\n",
    "def resid(x, y, w0, w1):\n",
    "    #import math\n",
    "    indicator = 1 if y==1 else 0\n",
    "    score = w0 + w1 * x\n",
    "    p = 1/(1 + math.exp((-1)*score))\n",
    "    resid = indicator - p\n",
    "    return resid\n",
    "\n",
    "def derivative_log_likelihood(X, Y, W):\n",
    "    return sum([x * resid(x, y, W[0], W[1]) for (x, y) in zip(X, Y)])"
   ]
  },
  {
   "cell_type": "code",
   "execution_count": 10,
   "metadata": {
    "collapsed": true
   },
   "outputs": [],
   "source": [
    "x = [2.5, .3, 2.8, 0.5]\n",
    "y = [+1, -1, +1, +1]\n",
    "w = [0, 1]"
   ]
  },
  {
   "cell_type": "code",
   "execution_count": 15,
   "metadata": {
    "collapsed": false
   },
   "outputs": [],
   "source": [
    "def likelihood(X, Y, W):\n",
    "    probs = [1/(1 + math.exp((-1)*(W[0] + W[1] * x))) for x in X]\n",
    "    probs_y= [1-p if y < 0 else p for (p, y) in zip(probs, Y)]\n",
    "    return np.prod(probs_y)\n"
   ]
  },
  {
   "cell_type": "code",
   "execution_count": 16,
   "metadata": {
    "collapsed": false
   },
   "outputs": [
    {
     "name": "stdout",
     "output_type": "stream",
     "text": [
      "0.230765141474\n"
     ]
    }
   ],
   "source": [
    "l = likelihood(x, y, w)\n",
    "print l"
   ]
  },
  {
   "cell_type": "code",
   "execution_count": 17,
   "metadata": {
    "collapsed": false
   },
   "outputs": [
    {
     "name": "stdout",
     "output_type": "stream",
     "text": [
      "0.366590721926\n"
     ]
    }
   ],
   "source": [
    "d = derivative_log_likelihood(x, y, w)\n",
    "print d"
   ]
  },
  {
   "cell_type": "code",
   "execution_count": 3,
   "metadata": {
    "collapsed": false
   },
   "outputs": [
    {
     "data": {
      "text/plain": [
       "0.36659072192551606"
      ]
     },
     "execution_count": 3,
     "metadata": {},
     "output_type": "execute_result"
    }
   ],
   "source": [
    "w0 = 0\n",
    "w1 = 1\n",
    "sum([derivative(x_, y_, w0, w1) for (x_, y_) in zip(x, y)])"
   ]
  },
  {
   "cell_type": "code",
   "execution_count": null,
   "metadata": {
    "collapsed": true
   },
   "outputs": [],
   "source": []
  }
 ],
 "metadata": {
  "kernelspec": {
   "display_name": "Python 2",
   "language": "python",
   "name": "python2"
  },
  "language_info": {
   "codemirror_mode": {
    "name": "ipython",
    "version": 2
   },
   "file_extension": ".py",
   "mimetype": "text/x-python",
   "name": "python",
   "nbconvert_exporter": "python",
   "pygments_lexer": "ipython2",
   "version": "2.7.11"
  }
 },
 "nbformat": 4,
 "nbformat_minor": 0
}
